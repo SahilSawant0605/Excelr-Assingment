{
 "cells": [
  {
   "cell_type": "code",
   "execution_count": 1,
   "id": "9482665f",
   "metadata": {},
   "outputs": [
    {
     "name": "stdout",
     "output_type": "stream",
     "text": [
      "Step 1: Hypotheses\n",
      "H0: Weekly operating cost follows W = 1000 + 5X\n",
      "H1: Weekly operating cost is higher than the model suggests\n",
      "\n",
      "Step 2: Test Statistic\n",
      "Sample Mean = 3050\n",
      "Theoretical Mean (mu) = 4000\n",
      "Standard Deviation (sigma) = 125\n",
      "Sample Size = 25\n",
      "Test Statistic (Z) = -38.000\n",
      "\n",
      "Step 3: Critical Value\n",
      "Critical Value at alpha=0.05 (one-tailed) = 1.645\n",
      "\n",
      "Step 4: Decision\n",
      "Reject H0? False \n",
      "\n",
      "Step 5: Conclusion\n",
      "Fail to reject H0: There is not enough evidence to conclude that the weekly operating costs are higher.\n"
     ]
    }
   ],
   "source": [
    "import math\n",
    "from scipy.stats import norm\n",
    "\n",
    "# Assignment: Hypothesis Testing for Bombay Hospitality Ltd.\n",
    "\n",
    "# Step 1: Hypotheses\n",
    "# H0: The weekly operating cost follows the model W = 1000 + 5X\n",
    "# H1: The weekly operating cost is higher than the model suggests\n",
    "\n",
    "# Step 2: Calculate Test Statistic\n",
    "sample_mean = 3050   # given sample mean cost\n",
    "n = 25               # sample size\n",
    "X_mean = 600         # mean units produced\n",
    "sigma_X = 25         # std deviation of units\n",
    "sigma = 5 * sigma_X  # std deviation of cost\n",
    "mu = 1000 + 5 * X_mean  # theoretical mean cost\n",
    "\n",
    "standard_error = sigma / math.sqrt(n)\n",
    "t_statistic = (sample_mean - mu) / standard_error\n",
    "\n",
    "# Step 3: Critical Value (one-tailed test at alpha = 0.05)\n",
    "alpha = 0.05\n",
    "critical_value = norm.ppf(1 - alpha)\n",
    "\n",
    "# Step 4: Decision\n",
    "reject_null = t_statistic > critical_value\n",
    "\n",
    "# Step 5: Conclusion\n",
    "if reject_null:\n",
    "    conclusion = \"Reject H0: There is strong evidence that the weekly operating costs are higher than the model suggests.\"\n",
    "else:\n",
    "    conclusion = \"Fail to reject H0: There is not enough evidence to conclude that the weekly operating costs are higher.\"\n",
    "\n",
    "# Print Results\n",
    "print(\"Step 1: Hypotheses\")\n",
    "print(\"H0: Weekly operating cost follows W = 1000 + 5X\")\n",
    "print(\"H1: Weekly operating cost is higher than the model suggests\\n\")\n",
    "\n",
    "print(\"Step 2: Test Statistic\")\n",
    "print(f\"Sample Mean = {sample_mean}\")\n",
    "print(f\"Theoretical Mean (mu) = {mu}\")\n",
    "print(f\"Standard Deviation (sigma) = {sigma}\")\n",
    "print(f\"Sample Size = {n}\")\n",
    "print(f\"Test Statistic (Z) = {t_statistic:.3f}\\n\")\n",
    "\n",
    "print(\"Step 3: Critical Value\")\n",
    "print(f\"Critical Value at alpha=0.05 (one-tailed) = {critical_value:.3f}\\n\")\n",
    "\n",
    "print(\"Step 4: Decision\")\n",
    "print(\"Reject H0?\" , reject_null, \"\\n\")\n",
    "\n",
    "print(\"Step 5: Conclusion\")\n",
    "print(conclusion)\n"
   ]
  },
  {
   "cell_type": "code",
   "execution_count": null,
   "id": "2aba73d7",
   "metadata": {},
   "outputs": [],
   "source": []
  }
 ],
 "metadata": {
  "kernelspec": {
   "display_name": "base",
   "language": "python",
   "name": "python3"
  },
  "language_info": {
   "codemirror_mode": {
    "name": "ipython",
    "version": 3
   },
   "file_extension": ".py",
   "mimetype": "text/x-python",
   "name": "python",
   "nbconvert_exporter": "python",
   "pygments_lexer": "ipython3",
   "version": "3.13.5"
  }
 },
 "nbformat": 4,
 "nbformat_minor": 5
}
