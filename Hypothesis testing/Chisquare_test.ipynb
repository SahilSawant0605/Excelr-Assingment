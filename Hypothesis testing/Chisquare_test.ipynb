{
 "cells": [
  {
   "cell_type": "code",
   "execution_count": 1,
   "id": "1093cb3d",
   "metadata": {},
   "outputs": [
    {
     "name": "stdout",
     "output_type": "stream",
     "text": [
      "Step 1: Hypotheses\n",
      "Null Hypothesis (H0): Customer satisfaction is independent of device type.\n",
      "Alternative Hypothesis (H1): Customer satisfaction depends on device type.\n",
      "\n",
      "Step 2: Chi-Square Computation\n",
      "Observed Table:\n",
      "[[ 50  70]\n",
      " [ 80 100]\n",
      " [ 60  90]\n",
      " [ 30  50]\n",
      " [ 20  50]]\n",
      "\n",
      "Expected Table under H0:\n",
      "[[ 48.  72.]\n",
      " [ 72. 108.]\n",
      " [ 60.  90.]\n",
      " [ 32.  48.]\n",
      " [ 28.  42.]]\n",
      "\n",
      "Chi-Square Statistic = 5.6382\n",
      "Degrees of Freedom = 4\n",
      "P-value = 0.2278\n",
      "\n",
      "Step 3: Critical Value\n",
      "Significance Level (alpha) = 0.05\n",
      "Critical Value from Chi-Square Distribution = 9.4877\n",
      "\n",
      "Step 4: Decision\n",
      "Chi-Square statistic is less than or equal to critical value -> Fail to reject H0\n",
      "Conclusion: There is no significant association between device type and customer satisfaction.\n"
     ]
    }
   ],
   "source": [
    "import numpy as np\n",
    "from scipy.stats import chi2, chi2_contingency\n",
    "\n",
    "# Step 0: Input the data\n",
    "# Rows: Satisfaction levels, Columns: Device type\n",
    "data = np.array([\n",
    "    [50, 70],   # Very Satisfied\n",
    "    [80, 100],  # Satisfied\n",
    "    [60, 90],   # Neutral\n",
    "    [30, 50],   # Unsatisfied\n",
    "    [20, 50]    # Very Unsatisfied\n",
    "])\n",
    "\n",
    "# Step 1: State the Hypotheses\n",
    "print(\"Step 1: Hypotheses\")\n",
    "print(\"Null Hypothesis (H0): Customer satisfaction is independent of device type.\")\n",
    "print(\"Alternative Hypothesis (H1): Customer satisfaction depends on device type.\\n\")\n",
    "\n",
    "# Step 2: Compute the Chi-Square Statistic\n",
    "chi2_stat, p_value, dof, expected = chi2_contingency(data)\n",
    "\n",
    "print(\"Step 2: Chi-Square Computation\")\n",
    "print(f\"Observed Table:\\n{data}\\n\")\n",
    "print(f\"Expected Table under H0:\\n{np.round(expected,2)}\\n\")\n",
    "print(f\"Chi-Square Statistic = {chi2_stat:.4f}\")\n",
    "print(f\"Degrees of Freedom = {dof}\")\n",
    "print(f\"P-value = {p_value:.4f}\\n\")\n",
    "\n",
    "# Step 3: Determine the Critical Value\n",
    "alpha = 0.05\n",
    "critical_value = chi2.ppf(1 - alpha, dof)\n",
    "\n",
    "print(\"Step 3: Critical Value\")\n",
    "print(f\"Significance Level (alpha) = {alpha}\")\n",
    "print(f\"Critical Value from Chi-Square Distribution = {critical_value:.4f}\\n\")\n",
    "\n",
    "# Step 4: Make a Decision\n",
    "print(\"Step 4: Decision\")\n",
    "if chi2_stat > critical_value:\n",
    "    print(\"Chi-Square statistic is greater than critical value -> Reject H0\")\n",
    "    print(\"Conclusion: There is a significant association between device type and customer satisfaction.\")\n",
    "else:\n",
    "    print(\"Chi-Square statistic is less than or equal to critical value -> Fail to reject H0\")\n",
    "    print(\"Conclusion: There is no significant association between device type and customer satisfaction.\")\n"
   ]
  },
  {
   "cell_type": "code",
   "execution_count": null,
   "id": "3039e1ac",
   "metadata": {},
   "outputs": [],
   "source": []
  }
 ],
 "metadata": {
  "kernelspec": {
   "display_name": "base",
   "language": "python",
   "name": "python3"
  },
  "language_info": {
   "codemirror_mode": {
    "name": "ipython",
    "version": 3
   },
   "file_extension": ".py",
   "mimetype": "text/x-python",
   "name": "python",
   "nbconvert_exporter": "python",
   "pygments_lexer": "ipython3",
   "version": "3.13.5"
  }
 },
 "nbformat": 4,
 "nbformat_minor": 5
}
