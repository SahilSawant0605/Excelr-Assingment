{
 "cells": [
  {
   "cell_type": "markdown",
   "id": "6547fc65",
   "metadata": {},
   "source": [
    "Exercise 1: Prime Numbers"
   ]
  },
  {
   "cell_type": "code",
   "execution_count": 1,
   "id": "396b48cd",
   "metadata": {},
   "outputs": [],
   "source": [
    "a = int(input('Enter a number to check if its a prime number or not:'))#this to take the input"
   ]
  },
  {
   "cell_type": "code",
   "execution_count": 2,
   "id": "ed4d3dc6",
   "metadata": {},
   "outputs": [
    {
     "name": "stdout",
     "output_type": "stream",
     "text": [
      "The is not a prime number.\n"
     ]
    }
   ],
   "source": [
    "if a>1:                                                     #checks for the number to be greater than 1\n",
    "    for i in range(2,a):                                    #sets conditions for the number to be divided by\n",
    "        if a % i ==0:                                       #checks the remainder for the number input and the conditions\n",
    "            print(\"The is not a prime number.\")\n",
    "            break                                           #breaks the loop if the condition is already met \n",
    "    else:                                                   #it only runs if the loop completes without hitting 'break'\n",
    "            print(\"This is a prime number\")\n",
    "else:                                                       #executes when the number is less than 1 or is 1\n",
    "    print(\"Enter a number greater than 1\")\n",
    "            "
   ]
  },
  {
   "cell_type": "markdown",
   "id": "98b7591c",
   "metadata": {},
   "source": [
    "Exercise 2: Product of Random Numbers"
   ]
  },
  {
   "cell_type": "code",
   "execution_count": null,
   "id": "8758d5a2",
   "metadata": {},
   "outputs": [],
   "source": [
    "import random                                                  #imports library for taking random value "
   ]
  },
  {
   "cell_type": "code",
   "execution_count": null,
   "id": "09d0ad36",
   "metadata": {},
   "outputs": [],
   "source": [
    "num1=random.randint(1,100)                                     #used to take 2 random integers to be multiplied \n",
    "num2=random.randint(1,100)"
   ]
  },
  {
   "cell_type": "code",
   "execution_count": null,
   "id": "9acd42e5",
   "metadata": {},
   "outputs": [
    {
     "name": "stdout",
     "output_type": "stream",
     "text": [
      "Congrates you hit the jackpot!!!\n"
     ]
    }
   ],
   "source": [
    "p=num1*num1                                                    #multiply the two random drawn number\n",
    "s=int(input(\"Enter a number\"))                                 #takes random user numbers to check \n",
    "if s==p:                                                       #checks if the product of random number and the number provided by user is right\n",
    "    print(\"Congrates you hit the jackpot!!!\")\n",
    "else:\n",
    "    print(f\"Sorry wrong numer, better luck next time\",{p})"
   ]
  },
  {
   "cell_type": "markdown",
   "id": "97818cd2",
   "metadata": {},
   "source": [
    "Exercise 3: Squares of Even/Odd Numbers"
   ]
  },
  {
   "cell_type": "code",
   "execution_count": null,
   "id": "2f89fdaa",
   "metadata": {},
   "outputs": [
    {
     "name": "stdout",
     "output_type": "stream",
     "text": [
      "101^2=10201\n",
      "103^2=10609\n",
      "105^2=11025\n",
      "107^2=11449\n",
      "109^2=11881\n",
      "111^2=12321\n",
      "113^2=12769\n",
      "115^2=13225\n",
      "117^2=13689\n",
      "119^2=14161\n",
      "121^2=14641\n",
      "123^2=15129\n",
      "125^2=15625\n",
      "127^2=16129\n",
      "129^2=16641\n",
      "131^2=17161\n",
      "133^2=17689\n",
      "135^2=18225\n",
      "137^2=18769\n",
      "139^2=19321\n",
      "141^2=19881\n",
      "143^2=20449\n",
      "145^2=21025\n",
      "147^2=21609\n",
      "149^2=22201\n",
      "151^2=22801\n",
      "153^2=23409\n",
      "155^2=24025\n",
      "157^2=24649\n",
      "159^2=25281\n",
      "161^2=25921\n",
      "163^2=26569\n",
      "165^2=27225\n",
      "167^2=27889\n",
      "169^2=28561\n",
      "171^2=29241\n",
      "173^2=29929\n",
      "175^2=30625\n",
      "177^2=31329\n",
      "179^2=32041\n",
      "181^2=32761\n",
      "183^2=33489\n",
      "185^2=34225\n",
      "187^2=34969\n",
      "189^2=35721\n",
      "191^2=36481\n",
      "193^2=37249\n",
      "195^2=38025\n",
      "197^2=38809\n",
      "199^2=39601\n"
     ]
    }
   ],
   "source": [
    "a=int(input(\"Enter 1 for even number or 2 for odd number:\"))          #ask the user to choose: 1 for even numbers or 2 for odd numbers\n",
    "if a==1:                                                              #if the user choses 1\n",
    "    for b in range (100,201):                                         #loop from 100 to 200\n",
    "         if b%2==0:                                                   #checks if the number is even\n",
    "              print(f\"{b}^2={b*b}\")                                   #prints the square of the even number\n",
    "elif a==2:                                                            #if the user choses 2\n",
    "    for b in range(100, 201):                                                 \n",
    "         if b%2!=0:                                                   #checks if the number is odd\n",
    "              print(f\"{b}^2={b*b}\")                                   #prints the square of the odd number\n",
    "else:\n",
    "     print(\"Enter 1 or 2\")                                            #prints if the numbers are not 1 or 2"
   ]
  },
  {
   "cell_type": "markdown",
   "id": "3af345c9",
   "metadata": {},
   "source": [
    "Exercise 4: Word counter"
   ]
  },
  {
   "cell_type": "code",
   "execution_count": 16,
   "id": "e59e7c17",
   "metadata": {},
   "outputs": [
    {
     "name": "stdout",
     "output_type": "stream",
     "text": [
      "'sahil': 2\n",
      "'my': 2\n",
      "'name': 2\n",
      "'is': 2\n"
     ]
    }
   ],
   "source": [
    "text = input(\"Enter the text to be scaned\")                                #takes text input\n",
    "words=text.split()                                                         #converts the string into list\n",
    "for word in set(words):                                                    #loops each word while converting into set to avoid dupliacate words\n",
    "   print(f\"'{word}': {words.count(word)}\")                                 #pritns and counts each looped word"
   ]
  },
  {
   "cell_type": "markdown",
   "id": "cabfe9e1",
   "metadata": {},
   "source": [
    "Exercise 5: Check for Palindrome"
   ]
  },
  {
   "cell_type": "code",
   "execution_count": 17,
   "id": "c3131a4d",
   "metadata": {},
   "outputs": [
    {
     "name": "stdout",
     "output_type": "stream",
     "text": [
      "The text is a palindrome\n"
     ]
    }
   ],
   "source": [
    "text = input(\"Enter a text:\")                                               #takes input text\n",
    "reverse_text = text[::-1]                                                   #reverses the input text using split\n",
    "if text==reverse_text:                                                      #checks if the text is same as reverse text\n",
    "    print(\"The text is a palindrome\")                                       #if the \"if\" condition is true\n",
    "else:\n",
    "    print(\"The text is not palindrome\")                                     #if thr \"if\" condition is false "
   ]
  },
  {
   "cell_type": "code",
   "execution_count": null,
   "id": "4fddf6fd",
   "metadata": {},
   "outputs": [],
   "source": []
  }
 ],
 "metadata": {
  "kernelspec": {
   "display_name": "base",
   "language": "python",
   "name": "python3"
  },
  "language_info": {
   "codemirror_mode": {
    "name": "ipython",
    "version": 3
   },
   "file_extension": ".py",
   "mimetype": "text/x-python",
   "name": "python",
   "nbconvert_exporter": "python",
   "pygments_lexer": "ipython3",
   "version": "3.13.5"
  }
 },
 "nbformat": 4,
 "nbformat_minor": 5
}
