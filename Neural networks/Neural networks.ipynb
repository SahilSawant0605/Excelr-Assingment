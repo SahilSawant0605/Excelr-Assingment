{
 "cells": [
  {
   "cell_type": "markdown",
   "id": "1315ac79",
   "metadata": {},
   "source": [
    "1. Data Exploration and Preprocessing"
   ]
  },
  {
   "cell_type": "code",
   "execution_count": 1,
   "id": "783027c4",
   "metadata": {},
   "outputs": [
    {
     "name": "stdout",
     "output_type": "stream",
     "text": [
      "Dataset Shape: (20000, 17)\n",
      "\n",
      "Dataset Info:\n",
      "<class 'pandas.core.frame.DataFrame'>\n",
      "RangeIndex: 20000 entries, 0 to 19999\n",
      "Data columns (total 17 columns):\n",
      " #   Column  Non-Null Count  Dtype \n",
      "---  ------  --------------  ----- \n",
      " 0   letter  20000 non-null  object\n",
      " 1   xbox    20000 non-null  int64 \n",
      " 2   ybox    20000 non-null  int64 \n",
      " 3   width   20000 non-null  int64 \n",
      " 4   height  20000 non-null  int64 \n",
      " 5   onpix   20000 non-null  int64 \n",
      " 6   xbar    20000 non-null  int64 \n",
      " 7   ybar    20000 non-null  int64 \n",
      " 8   x2bar   20000 non-null  int64 \n",
      " 9   y2bar   20000 non-null  int64 \n",
      " 10  xybar   20000 non-null  int64 \n",
      " 11  x2ybar  20000 non-null  int64 \n",
      " 12  xy2bar  20000 non-null  int64 \n",
      " 13  xedge   20000 non-null  int64 \n",
      " 14  xedgey  20000 non-null  int64 \n",
      " 15  yedge   20000 non-null  int64 \n",
      " 16  yedgex  20000 non-null  int64 \n",
      "dtypes: int64(16), object(1)\n",
      "memory usage: 2.6+ MB\n",
      "\n",
      "First 5 rows of the dataset:\n",
      "  letter  xbox  ybox  width  height  onpix  xbar  ybar  x2bar  y2bar  xybar  \\\n",
      "0      T     2     8      3       5      1     8    13      0      6      6   \n",
      "1      I     5    12      3       7      2    10     5      5      4     13   \n",
      "2      D     4    11      6       8      6    10     6      2      6     10   \n",
      "3      N     7    11      6       6      3     5     9      4      6      4   \n",
      "4      G     2     1      3       1      1     8     6      6      6      6   \n",
      "\n",
      "   x2ybar  xy2bar  xedge  xedgey  yedge  yedgex  \n",
      "0      10       8      0       8      0       8  \n",
      "1       3       9      2       8      4      10  \n",
      "2       3       7      3       7      3       9  \n",
      "3       4      10      6      10      2       8  \n",
      "4       5       9      1       7      5      10  \n",
      "\n",
      "Unique classes (alphabets): 26\n",
      "Class distribution:\n",
      " letter\n",
      "U    813\n",
      "D    805\n",
      "P    803\n",
      "T    796\n",
      "M    792\n",
      "A    789\n",
      "X    787\n",
      "Y    786\n",
      "N    783\n",
      "Q    783\n",
      "F    775\n",
      "G    773\n",
      "E    768\n",
      "B    766\n",
      "V    764\n",
      "L    761\n",
      "R    758\n",
      "I    755\n",
      "O    753\n",
      "W    752\n",
      "S    748\n",
      "J    747\n",
      "K    739\n",
      "C    736\n",
      "H    734\n",
      "Z    734\n",
      "Name: count, dtype: int64\n",
      "\n",
      "Missing values per column:\n",
      "letter    0\n",
      "xbox      0\n",
      "ybox      0\n",
      "width     0\n",
      "height    0\n",
      "onpix     0\n",
      "xbar      0\n",
      "ybar      0\n",
      "x2bar     0\n",
      "y2bar     0\n",
      "xybar     0\n",
      "x2ybar    0\n",
      "xy2bar    0\n",
      "xedge     0\n",
      "xedgey    0\n",
      "yedge     0\n",
      "yedgex    0\n",
      "dtype: int64\n",
      "\n",
      "Shape of X_scaled: (20000, 16)\n",
      "Shape of y_categorical: (20000, 26)\n"
     ]
    }
   ],
   "source": [
    "import pandas as pd\n",
    "import numpy as np\n",
    "from sklearn.model_selection import train_test_split\n",
    "from sklearn.preprocessing import StandardScaler, LabelEncoder\n",
    "from tensorflow.keras.utils import to_categorical\n",
    "\n",
    "# Load the dataset\n",
    "df = pd.read_csv(\"Alphabets_data.csv\")\n",
    "\n",
    "# Display basic information\n",
    "print(\"Dataset Shape:\", df.shape)\n",
    "print(\"\\nDataset Info:\")\n",
    "df.info()\n",
    "print(\"\\nFirst 5 rows of the dataset:\")\n",
    "print(df.head())\n",
    "print(\"\\nUnique classes (alphabets):\", df['letter'].nunique())\n",
    "print(\"Class distribution:\\n\", df['letter'].value_counts())\n",
    "\n",
    "# Check for missing values\n",
    "print(\"\\nMissing values per column:\")\n",
    "print(df.isnull().sum())\n",
    "\n",
    "# Separate features (X) and target (y)\n",
    "X = df.drop('letter', axis=1)\n",
    "y = df['letter']\n",
    "\n",
    "# Encode the target variable\n",
    "label_encoder = LabelEncoder()\n",
    "y_encoded = label_encoder.fit_transform(y)\n",
    "y_categorical = to_categorical(y_encoded) # One-hot encode for Keras\n",
    "\n",
    "# Normalize numerical features\n",
    "scaler = StandardScaler()\n",
    "X_scaled = scaler.fit_transform(X)\n",
    "\n",
    "print(\"\\nShape of X_scaled:\", X_scaled.shape)\n",
    "print(\"Shape of y_categorical:\", y_categorical.shape)"
   ]
  },
  {
   "cell_type": "markdown",
   "id": "b7e1d612",
   "metadata": {},
   "source": [
    "2. Model Implementation"
   ]
  },
  {
   "cell_type": "code",
   "execution_count": 12,
   "id": "c4039659",
   "metadata": {},
   "outputs": [],
   "source": [
    "from sklearn.preprocessing import LabelEncoder,StandardScaler\n",
    "from sklearn.model_selection import train_test_split\n",
    "\n",
    "le=LabelEncoder()\n",
    "df['letter']=le.fit_transform(df['letter'])\n",
    "features=df.drop('letter',axis=1)\n",
    "se=StandardScaler()\n",
    "se.fit_transform(features)\n",
    "\n",
    "target=df['letter']\n",
    "\n",
    "x_train,x_test,y_train,y_test=train_test_split(features,target,test_size=0.2,random_state=42)\n",
    "from sklearn.preprocessing import StandardScaler\n",
    "\n"
   ]
  },
  {
   "cell_type": "code",
   "execution_count": 13,
   "id": "6cf6e30c",
   "metadata": {},
   "outputs": [
    {
     "name": "stderr",
     "output_type": "stream",
     "text": [
      "d:\\class\\Lib\\site-packages\\keras\\src\\layers\\core\\dense.py:92: UserWarning: Do not pass an `input_shape`/`input_dim` argument to a layer. When using Sequential models, prefer using an `Input(shape)` object as the first layer in the model instead.\n",
      "  super().__init__(activity_regularizer=activity_regularizer, **kwargs)\n"
     ]
    },
    {
     "name": "stdout",
     "output_type": "stream",
     "text": [
      "\u001b[1m500/500\u001b[0m \u001b[32m━━━━━━━━━━━━━━━━━━━━\u001b[0m\u001b[37m\u001b[0m \u001b[1m2s\u001b[0m 4ms/step - accuracy: 0.0449 - loss: 3.7961\n"
     ]
    },
    {
     "data": {
      "text/plain": [
       "[3.7961349487304688, 0.044874999672174454]"
      ]
     },
     "execution_count": 13,
     "metadata": {},
     "output_type": "execute_result"
    }
   ],
   "source": [
    "from keras.models import Sequential\n",
    "from keras.layers import Dense\n",
    "model = Sequential([\n",
    "    Dense(64, activation='relu', input_shape=(x_train.shape[1],)),\n",
    "    Dense(32, activation='relu'),\n",
    "    Dense(1,activation='sigmoid')\n",
    "])\n",
    "model.compile(loss='binary_crossentropy',optimizer='adam',metrics=['accuracy'])\n",
    "model.compile(loss='binary_crossentropy',optimizer='adam',metrics=['accuracy'])\n",
    "score=model.evaluate(x_train,y_train)\n",
    "score"
   ]
  },
  {
   "cell_type": "markdown",
   "id": "4c002192",
   "metadata": {},
   "source": [
    "3. Hyperparameter Tuning"
   ]
  },
  {
   "cell_type": "code",
   "execution_count": 20,
   "id": "e8c0e947",
   "metadata": {},
   "outputs": [
    {
     "name": "stdout",
     "output_type": "stream",
     "text": [
      "Reloading Tuner from my_dir\\alphabet_tuning\\tuner0.json\n",
      "Best units1: 48, Best units2: 16, Best learning_rate: 0.01\n",
      "Epoch 1/50\n"
     ]
    },
    {
     "name": "stderr",
     "output_type": "stream",
     "text": [
      "d:\\class\\Lib\\site-packages\\keras\\src\\layers\\core\\dense.py:92: UserWarning: Do not pass an `input_shape`/`input_dim` argument to a layer. When using Sequential models, prefer using an `Input(shape)` object as the first layer in the model instead.\n",
      "  super().__init__(activity_regularizer=activity_regularizer, **kwargs)\n"
     ]
    },
    {
     "name": "stdout",
     "output_type": "stream",
     "text": [
      "\u001b[1m400/400\u001b[0m \u001b[32m━━━━━━━━━━━━━━━━━━━━\u001b[0m\u001b[37m\u001b[0m \u001b[1m4s\u001b[0m 5ms/step - accuracy: 0.3336 - loss: 2.1453 - val_accuracy: 0.5425 - val_loss: 1.4981\n",
      "Epoch 2/50\n",
      "\u001b[1m400/400\u001b[0m \u001b[32m━━━━━━━━━━━━━━━━━━━━\u001b[0m\u001b[37m\u001b[0m \u001b[1m1s\u001b[0m 3ms/step - accuracy: 0.5730 - loss: 1.3485 - val_accuracy: 0.6597 - val_loss: 1.1414\n",
      "Epoch 3/50\n",
      "\u001b[1m400/400\u001b[0m \u001b[32m━━━━━━━━━━━━━━━━━━━━\u001b[0m\u001b[37m\u001b[0m \u001b[1m2s\u001b[0m 4ms/step - accuracy: 0.6701 - loss: 1.0664 - val_accuracy: 0.6609 - val_loss: 1.0732\n",
      "Epoch 4/50\n",
      "\u001b[1m400/400\u001b[0m \u001b[32m━━━━━━━━━━━━━━━━━━━━\u001b[0m\u001b[37m\u001b[0m \u001b[1m1s\u001b[0m 4ms/step - accuracy: 0.6972 - loss: 0.9635 - val_accuracy: 0.7241 - val_loss: 0.8995\n",
      "Epoch 5/50\n",
      "\u001b[1m400/400\u001b[0m \u001b[32m━━━━━━━━━━━━━━━━━━━━\u001b[0m\u001b[37m\u001b[0m \u001b[1m2s\u001b[0m 4ms/step - accuracy: 0.7215 - loss: 0.8860 - val_accuracy: 0.7281 - val_loss: 0.9034\n",
      "Epoch 6/50\n",
      "\u001b[1m400/400\u001b[0m \u001b[32m━━━━━━━━━━━━━━━━━━━━\u001b[0m\u001b[37m\u001b[0m \u001b[1m1s\u001b[0m 4ms/step - accuracy: 0.7270 - loss: 0.8717 - val_accuracy: 0.7284 - val_loss: 0.8935\n",
      "Epoch 7/50\n",
      "\u001b[1m400/400\u001b[0m \u001b[32m━━━━━━━━━━━━━━━━━━━━\u001b[0m\u001b[37m\u001b[0m \u001b[1m2s\u001b[0m 4ms/step - accuracy: 0.7517 - loss: 0.8096 - val_accuracy: 0.7269 - val_loss: 0.9571\n",
      "Epoch 8/50\n",
      "\u001b[1m400/400\u001b[0m \u001b[32m━━━━━━━━━━━━━━━━━━━━\u001b[0m\u001b[37m\u001b[0m \u001b[1m2s\u001b[0m 4ms/step - accuracy: 0.7547 - loss: 0.7902 - val_accuracy: 0.7575 - val_loss: 0.8140\n",
      "Epoch 9/50\n",
      "\u001b[1m400/400\u001b[0m \u001b[32m━━━━━━━━━━━━━━━━━━━━\u001b[0m\u001b[37m\u001b[0m \u001b[1m2s\u001b[0m 4ms/step - accuracy: 0.7663 - loss: 0.7565 - val_accuracy: 0.7825 - val_loss: 0.7004\n",
      "Epoch 10/50\n",
      "\u001b[1m400/400\u001b[0m \u001b[32m━━━━━━━━━━━━━━━━━━━━\u001b[0m\u001b[37m\u001b[0m \u001b[1m1s\u001b[0m 3ms/step - accuracy: 0.7661 - loss: 0.7429 - val_accuracy: 0.7403 - val_loss: 0.8418\n",
      "Epoch 11/50\n",
      "\u001b[1m400/400\u001b[0m \u001b[32m━━━━━━━━━━━━━━━━━━━━\u001b[0m\u001b[37m\u001b[0m \u001b[1m1s\u001b[0m 4ms/step - accuracy: 0.7733 - loss: 0.7230 - val_accuracy: 0.7713 - val_loss: 0.7714\n",
      "Epoch 12/50\n",
      "\u001b[1m400/400\u001b[0m \u001b[32m━━━━━━━━━━━━━━━━━━━━\u001b[0m\u001b[37m\u001b[0m \u001b[1m3s\u001b[0m 6ms/step - accuracy: 0.7777 - loss: 0.7113 - val_accuracy: 0.7625 - val_loss: 0.7973\n",
      "Epoch 13/50\n",
      "\u001b[1m400/400\u001b[0m \u001b[32m━━━━━━━━━━━━━━━━━━━━\u001b[0m\u001b[37m\u001b[0m \u001b[1m2s\u001b[0m 4ms/step - accuracy: 0.7850 - loss: 0.6905 - val_accuracy: 0.7900 - val_loss: 0.6975\n",
      "Epoch 14/50\n",
      "\u001b[1m400/400\u001b[0m \u001b[32m━━━━━━━━━━━━━━━━━━━━\u001b[0m\u001b[37m\u001b[0m \u001b[1m2s\u001b[0m 5ms/step - accuracy: 0.7834 - loss: 0.6947 - val_accuracy: 0.7866 - val_loss: 0.7240\n",
      "Epoch 15/50\n",
      "\u001b[1m400/400\u001b[0m \u001b[32m━━━━━━━━━━━━━━━━━━━━\u001b[0m\u001b[37m\u001b[0m \u001b[1m2s\u001b[0m 5ms/step - accuracy: 0.7881 - loss: 0.6825 - val_accuracy: 0.7894 - val_loss: 0.7030\n",
      "Epoch 16/50\n",
      "\u001b[1m400/400\u001b[0m \u001b[32m━━━━━━━━━━━━━━━━━━━━\u001b[0m\u001b[37m\u001b[0m \u001b[1m2s\u001b[0m 4ms/step - accuracy: 0.7895 - loss: 0.6806 - val_accuracy: 0.7853 - val_loss: 0.7158\n",
      "Epoch 17/50\n",
      "\u001b[1m400/400\u001b[0m \u001b[32m━━━━━━━━━━━━━━━━━━━━\u001b[0m\u001b[37m\u001b[0m \u001b[1m3s\u001b[0m 4ms/step - accuracy: 0.7901 - loss: 0.6648 - val_accuracy: 0.7647 - val_loss: 0.7660\n",
      "Epoch 18/50\n",
      "\u001b[1m400/400\u001b[0m \u001b[32m━━━━━━━━━━━━━━━━━━━━\u001b[0m\u001b[37m\u001b[0m \u001b[1m3s\u001b[0m 5ms/step - accuracy: 0.7946 - loss: 0.6633 - val_accuracy: 0.7703 - val_loss: 0.7440\n",
      "Epoch 19/50\n",
      "\u001b[1m400/400\u001b[0m \u001b[32m━━━━━━━━━━━━━━━━━━━━\u001b[0m\u001b[37m\u001b[0m \u001b[1m2s\u001b[0m 6ms/step - accuracy: 0.7888 - loss: 0.6836 - val_accuracy: 0.7891 - val_loss: 0.6949\n",
      "Epoch 20/50\n",
      "\u001b[1m400/400\u001b[0m \u001b[32m━━━━━━━━━━━━━━━━━━━━\u001b[0m\u001b[37m\u001b[0m \u001b[1m3s\u001b[0m 6ms/step - accuracy: 0.7938 - loss: 0.6727 - val_accuracy: 0.7641 - val_loss: 0.8110\n",
      "Epoch 21/50\n",
      "\u001b[1m400/400\u001b[0m \u001b[32m━━━━━━━━━━━━━━━━━━━━\u001b[0m\u001b[37m\u001b[0m \u001b[1m5s\u001b[0m 7ms/step - accuracy: 0.8000 - loss: 0.6342 - val_accuracy: 0.7994 - val_loss: 0.6917\n",
      "Epoch 22/50\n",
      "\u001b[1m400/400\u001b[0m \u001b[32m━━━━━━━━━━━━━━━━━━━━\u001b[0m\u001b[37m\u001b[0m \u001b[1m2s\u001b[0m 4ms/step - accuracy: 0.7994 - loss: 0.6434 - val_accuracy: 0.7972 - val_loss: 0.6771\n",
      "Epoch 23/50\n",
      "\u001b[1m400/400\u001b[0m \u001b[32m━━━━━━━━━━━━━━━━━━━━\u001b[0m\u001b[37m\u001b[0m \u001b[1m3s\u001b[0m 5ms/step - accuracy: 0.8006 - loss: 0.6380 - val_accuracy: 0.7962 - val_loss: 0.6941\n",
      "Epoch 24/50\n",
      "\u001b[1m400/400\u001b[0m \u001b[32m━━━━━━━━━━━━━━━━━━━━\u001b[0m\u001b[37m\u001b[0m \u001b[1m2s\u001b[0m 5ms/step - accuracy: 0.8064 - loss: 0.6199 - val_accuracy: 0.7884 - val_loss: 0.6952\n",
      "Epoch 25/50\n",
      "\u001b[1m400/400\u001b[0m \u001b[32m━━━━━━━━━━━━━━━━━━━━\u001b[0m\u001b[37m\u001b[0m \u001b[1m2s\u001b[0m 4ms/step - accuracy: 0.8031 - loss: 0.6387 - val_accuracy: 0.7941 - val_loss: 0.6827\n",
      "Epoch 26/50\n",
      "\u001b[1m400/400\u001b[0m \u001b[32m━━━━━━━━━━━━━━━━━━━━\u001b[0m\u001b[37m\u001b[0m \u001b[1m2s\u001b[0m 5ms/step - accuracy: 0.8084 - loss: 0.6167 - val_accuracy: 0.7856 - val_loss: 0.7023\n",
      "Epoch 27/50\n",
      "\u001b[1m400/400\u001b[0m \u001b[32m━━━━━━━━━━━━━━━━━━━━\u001b[0m\u001b[37m\u001b[0m \u001b[1m2s\u001b[0m 5ms/step - accuracy: 0.8037 - loss: 0.6327 - val_accuracy: 0.7894 - val_loss: 0.6995\n",
      "Epoch 28/50\n",
      "\u001b[1m400/400\u001b[0m \u001b[32m━━━━━━━━━━━━━━━━━━━━\u001b[0m\u001b[37m\u001b[0m \u001b[1m2s\u001b[0m 4ms/step - accuracy: 0.8042 - loss: 0.6200 - val_accuracy: 0.7947 - val_loss: 0.6892\n",
      "Epoch 29/50\n",
      "\u001b[1m400/400\u001b[0m \u001b[32m━━━━━━━━━━━━━━━━━━━━\u001b[0m\u001b[37m\u001b[0m \u001b[1m2s\u001b[0m 5ms/step - accuracy: 0.8064 - loss: 0.6174 - val_accuracy: 0.7844 - val_loss: 0.6976\n",
      "Epoch 30/50\n",
      "\u001b[1m400/400\u001b[0m \u001b[32m━━━━━━━━━━━━━━━━━━━━\u001b[0m\u001b[37m\u001b[0m \u001b[1m3s\u001b[0m 5ms/step - accuracy: 0.8116 - loss: 0.5956 - val_accuracy: 0.7919 - val_loss: 0.6816\n",
      "Epoch 31/50\n",
      "\u001b[1m400/400\u001b[0m \u001b[32m━━━━━━━━━━━━━━━━━━━━\u001b[0m\u001b[37m\u001b[0m \u001b[1m2s\u001b[0m 4ms/step - accuracy: 0.8091 - loss: 0.6069 - val_accuracy: 0.7784 - val_loss: 0.7566\n",
      "Epoch 32/50\n",
      "\u001b[1m400/400\u001b[0m \u001b[32m━━━━━━━━━━━━━━━━━━━━\u001b[0m\u001b[37m\u001b[0m \u001b[1m2s\u001b[0m 5ms/step - accuracy: 0.8098 - loss: 0.6090 - val_accuracy: 0.8087 - val_loss: 0.6291\n",
      "Epoch 33/50\n",
      "\u001b[1m400/400\u001b[0m \u001b[32m━━━━━━━━━━━━━━━━━━━━\u001b[0m\u001b[37m\u001b[0m \u001b[1m2s\u001b[0m 4ms/step - accuracy: 0.8035 - loss: 0.6287 - val_accuracy: 0.8028 - val_loss: 0.6552\n",
      "Epoch 34/50\n",
      "\u001b[1m400/400\u001b[0m \u001b[32m━━━━━━━━━━━━━━━━━━━━\u001b[0m\u001b[37m\u001b[0m \u001b[1m2s\u001b[0m 5ms/step - accuracy: 0.8126 - loss: 0.5957 - val_accuracy: 0.7912 - val_loss: 0.6961\n",
      "Epoch 35/50\n",
      "\u001b[1m400/400\u001b[0m \u001b[32m━━━━━━━━━━━━━━━━━━━━\u001b[0m\u001b[37m\u001b[0m \u001b[1m2s\u001b[0m 5ms/step - accuracy: 0.8073 - loss: 0.6097 - val_accuracy: 0.8134 - val_loss: 0.6215\n",
      "Epoch 36/50\n",
      "\u001b[1m400/400\u001b[0m \u001b[32m━━━━━━━━━━━━━━━━━━━━\u001b[0m\u001b[37m\u001b[0m \u001b[1m2s\u001b[0m 4ms/step - accuracy: 0.8139 - loss: 0.5877 - val_accuracy: 0.8100 - val_loss: 0.6386\n",
      "Epoch 37/50\n",
      "\u001b[1m400/400\u001b[0m \u001b[32m━━━━━━━━━━━━━━━━━━━━\u001b[0m\u001b[37m\u001b[0m \u001b[1m2s\u001b[0m 5ms/step - accuracy: 0.8123 - loss: 0.6011 - val_accuracy: 0.7875 - val_loss: 0.7200\n",
      "Epoch 38/50\n",
      "\u001b[1m400/400\u001b[0m \u001b[32m━━━━━━━━━━━━━━━━━━━━\u001b[0m\u001b[37m\u001b[0m \u001b[1m2s\u001b[0m 5ms/step - accuracy: 0.8163 - loss: 0.5799 - val_accuracy: 0.7841 - val_loss: 0.7268\n",
      "Epoch 39/50\n",
      "\u001b[1m400/400\u001b[0m \u001b[32m━━━━━━━━━━━━━━━━━━━━\u001b[0m\u001b[37m\u001b[0m \u001b[1m2s\u001b[0m 4ms/step - accuracy: 0.8149 - loss: 0.5843 - val_accuracy: 0.7872 - val_loss: 0.7223\n",
      "Epoch 40/50\n",
      "\u001b[1m400/400\u001b[0m \u001b[32m━━━━━━━━━━━━━━━━━━━━\u001b[0m\u001b[37m\u001b[0m \u001b[1m3s\u001b[0m 5ms/step - accuracy: 0.8127 - loss: 0.5958 - val_accuracy: 0.7828 - val_loss: 0.7427\n",
      "Epoch 41/50\n",
      "\u001b[1m400/400\u001b[0m \u001b[32m━━━━━━━━━━━━━━━━━━━━\u001b[0m\u001b[37m\u001b[0m \u001b[1m2s\u001b[0m 4ms/step - accuracy: 0.8204 - loss: 0.5771 - val_accuracy: 0.8003 - val_loss: 0.6994\n",
      "Epoch 42/50\n",
      "\u001b[1m400/400\u001b[0m \u001b[32m━━━━━━━━━━━━━━━━━━━━\u001b[0m\u001b[37m\u001b[0m \u001b[1m3s\u001b[0m 5ms/step - accuracy: 0.8160 - loss: 0.5731 - val_accuracy: 0.8037 - val_loss: 0.6625\n",
      "Epoch 43/50\n",
      "\u001b[1m400/400\u001b[0m \u001b[32m━━━━━━━━━━━━━━━━━━━━\u001b[0m\u001b[37m\u001b[0m \u001b[1m3s\u001b[0m 5ms/step - accuracy: 0.8137 - loss: 0.5828 - val_accuracy: 0.8034 - val_loss: 0.6452\n",
      "Epoch 44/50\n",
      "\u001b[1m400/400\u001b[0m \u001b[32m━━━━━━━━━━━━━━━━━━━━\u001b[0m\u001b[37m\u001b[0m \u001b[1m2s\u001b[0m 4ms/step - accuracy: 0.8179 - loss: 0.5849 - val_accuracy: 0.8116 - val_loss: 0.6222\n",
      "Epoch 45/50\n",
      "\u001b[1m400/400\u001b[0m \u001b[32m━━━━━━━━━━━━━━━━━━━━\u001b[0m\u001b[37m\u001b[0m \u001b[1m2s\u001b[0m 5ms/step - accuracy: 0.8201 - loss: 0.5754 - val_accuracy: 0.7675 - val_loss: 0.7703\n",
      "Epoch 46/50\n",
      "\u001b[1m400/400\u001b[0m \u001b[32m━━━━━━━━━━━━━━━━━━━━\u001b[0m\u001b[37m\u001b[0m \u001b[1m2s\u001b[0m 4ms/step - accuracy: 0.8191 - loss: 0.5730 - val_accuracy: 0.7922 - val_loss: 0.6904\n",
      "Epoch 47/50\n",
      "\u001b[1m400/400\u001b[0m \u001b[32m━━━━━━━━━━━━━━━━━━━━\u001b[0m\u001b[37m\u001b[0m \u001b[1m2s\u001b[0m 4ms/step - accuracy: 0.8189 - loss: 0.5735 - val_accuracy: 0.7903 - val_loss: 0.7022\n",
      "Epoch 48/50\n",
      "\u001b[1m400/400\u001b[0m \u001b[32m━━━━━━━━━━━━━━━━━━━━\u001b[0m\u001b[37m\u001b[0m \u001b[1m2s\u001b[0m 4ms/step - accuracy: 0.8188 - loss: 0.5783 - val_accuracy: 0.7659 - val_loss: 0.7587\n",
      "Epoch 49/50\n",
      "\u001b[1m400/400\u001b[0m \u001b[32m━━━━━━━━━━━━━━━━━━━━\u001b[0m\u001b[37m\u001b[0m \u001b[1m2s\u001b[0m 4ms/step - accuracy: 0.8205 - loss: 0.5729 - val_accuracy: 0.8091 - val_loss: 0.6308\n",
      "Epoch 50/50\n",
      "\u001b[1m400/400\u001b[0m \u001b[32m━━━━━━━━━━━━━━━━━━━━\u001b[0m\u001b[37m\u001b[0m \u001b[1m2s\u001b[0m 5ms/step - accuracy: 0.8191 - loss: 0.5768 - val_accuracy: 0.7922 - val_loss: 0.6809\n"
     ]
    },
    {
     "data": {
      "text/plain": [
       "<keras.src.callbacks.history.History at 0x223de59d450>"
      ]
     },
     "execution_count": 20,
     "metadata": {},
     "output_type": "execute_result"
    }
   ],
   "source": [
    "import tensorflow as tf\n",
    "from tensorflow.keras.models import Sequential\n",
    "from tensorflow.keras.layers import Dense\n",
    "from kerastuner import RandomSearch\n",
    "\n",
    "def build_model(hp):\n",
    "    model = Sequential()\n",
    "    model.add(Dense(units=hp.Int('units1', min_value=32, max_value=128, step=16),\n",
    "                    activation='relu',\n",
    "                    input_shape=(x_train.shape[1],)))\n",
    "    model.add(Dense(units=hp.Int('units2', min_value=16, max_value=64, step=16),\n",
    "                    activation='relu'))\n",
    "    model.add(Dense(26, activation='softmax'))  # 26 classes for A-Z\n",
    "    \n",
    "    model.compile(\n",
    "        optimizer=tf.keras.optimizers.Adam(\n",
    "            learning_rate=hp.Choice('learning_rate', values=[1e-2, 1e-3, 1e-4])\n",
    "        ),\n",
    "        loss='sparse_categorical_crossentropy',\n",
    "        metrics=['accuracy']\n",
    "    )\n",
    "    return model\n",
    "\n",
    "tuner = RandomSearch(\n",
    "    build_model,\n",
    "    objective='val_accuracy',\n",
    "    max_trials=5,\n",
    "    executions_per_trial=3,\n",
    "    directory='my_dir',\n",
    "    project_name='alphabet_tuning'\n",
    ")\n",
    "\n",
    "tuner.search(x_train, y_train, epochs=50, validation_split=0.2)\n",
    "\n",
    "best_hps = tuner.get_best_hyperparameters(num_trials=1)[0]\n",
    "print(f\"Best units1: {best_hps.get('units1')}, Best units2: {best_hps.get('units2')}, Best learning_rate: {best_hps.get('learning_rate')}\")\n",
    "\n",
    "best_model = tuner.hypermodel.build(best_hps)\n",
    "best_model.fit(x_train, y_train, epochs=50, validation_split=0.2, batch_size=32)\n"
   ]
  },
  {
   "cell_type": "markdown",
   "id": "66746989",
   "metadata": {},
   "source": [
    "4. Evaluation"
   ]
  },
  {
   "cell_type": "code",
   "execution_count": 22,
   "id": "02056c84",
   "metadata": {},
   "outputs": [
    {
     "name": "stdout",
     "output_type": "stream",
     "text": [
      "\u001b[1m125/125\u001b[0m \u001b[32m━━━━━━━━━━━━━━━━━━━━\u001b[0m\u001b[37m\u001b[0m \u001b[1m1s\u001b[0m 4ms/step\n",
      "\u001b[1m  1/125\u001b[0m \u001b[37m━━━━━━━━━━━━━━━━━━━━\u001b[0m \u001b[1m10s\u001b[0m 87ms/step"
     ]
    },
    {
     "name": "stderr",
     "output_type": "stream",
     "text": [
      "d:\\class\\Lib\\site-packages\\sklearn\\metrics\\_classification.py:1565: UndefinedMetricWarning: Precision is ill-defined and being set to 0.0 in labels with no predicted samples. Use `zero_division` parameter to control this behavior.\n",
      "  _warn_prf(average, modifier, f\"{metric.capitalize()} is\", len(result))\n"
     ]
    },
    {
     "name": "stdout",
     "output_type": "stream",
     "text": [
      "\u001b[1m125/125\u001b[0m \u001b[32m━━━━━━━━━━━━━━━━━━━━\u001b[0m\u001b[37m\u001b[0m \u001b[1m0s\u001b[0m 2ms/step\n",
      "\n",
      "Default Model Performance:\n",
      "Accuracy: 0.0372, Precision: 0.0014, Recall: 0.0372, F1-Score: 0.0027\n",
      "\n",
      "Tuned Model Performance:\n",
      "Accuracy: 0.8040, Precision: 0.8188, Recall: 0.8040, F1-Score: 0.8044\n",
      "\n",
      "--- Comparison ---\n",
      "Default Model Accuracy: 0.0372\n",
      "Tuned Model Accuracy:   0.8040\n"
     ]
    }
   ],
   "source": [
    "from sklearn.metrics import accuracy_score, precision_score, recall_score, f1_score\n",
    "import numpy as np\n",
    "import matplotlib.pyplot as plt\n",
    "\n",
    "# --- Default model evaluation ---\n",
    "y_pred_probs_default = model.predict(x_test)  # default_model: your original model\n",
    "y_pred_default = np.argmax(y_pred_probs_default, axis=1)\n",
    "\n",
    "accuracy_default = accuracy_score(y_test, y_pred_default)\n",
    "precision_default = precision_score(y_test, y_pred_default, average='weighted')\n",
    "recall_default = recall_score(y_test, y_pred_default, average='weighted')\n",
    "f1_default = f1_score(y_test, y_pred_default, average='weighted')\n",
    "\n",
    "# --- Tuned model evaluation ---\n",
    "y_pred_probs_tuned = best_model.predict(x_test)  # best_model: tuned model\n",
    "y_pred_tuned = np.argmax(y_pred_probs_tuned, axis=1)\n",
    "\n",
    "accuracy_tuned = accuracy_score(y_test, y_pred_tuned)\n",
    "precision_tuned = precision_score(y_test, y_pred_tuned, average='weighted')\n",
    "recall_tuned = recall_score(y_test, y_pred_tuned, average='weighted')\n",
    "f1_tuned = f1_score(y_test, y_pred_tuned, average='weighted')\n",
    "\n",
    "# --- Print results ---\n",
    "print(f\"\\nDefault Model Performance:\")\n",
    "print(f\"Accuracy: {accuracy_default:.4f}, Precision: {precision_default:.4f}, Recall: {recall_default:.4f}, F1-Score: {f1_default:.4f}\")\n",
    "\n",
    "print(f\"\\nTuned Model Performance:\")\n",
    "print(f\"Accuracy: {accuracy_tuned:.4f}, Precision: {precision_tuned:.4f}, Recall: {recall_tuned:.4f}, F1-Score: {f1_tuned:.4f}\")\n",
    "\n",
    "print(\"\\n--- Comparison ---\")\n",
    "print(f\"Default Model Accuracy: {accuracy_default:.4f}\")\n",
    "print(f\"Tuned Model Accuracy:   {accuracy_tuned:.4f}\")"
   ]
  },
  {
   "cell_type": "code",
   "execution_count": null,
   "id": "1d5ede50",
   "metadata": {},
   "outputs": [],
   "source": []
  }
 ],
 "metadata": {
  "kernelspec": {
   "display_name": "base",
   "language": "python",
   "name": "python3"
  },
  "language_info": {
   "codemirror_mode": {
    "name": "ipython",
    "version": 3
   },
   "file_extension": ".py",
   "mimetype": "text/x-python",
   "name": "python",
   "nbconvert_exporter": "python",
   "pygments_lexer": "ipython3",
   "version": "3.13.5"
  }
 },
 "nbformat": 4,
 "nbformat_minor": 5
}
