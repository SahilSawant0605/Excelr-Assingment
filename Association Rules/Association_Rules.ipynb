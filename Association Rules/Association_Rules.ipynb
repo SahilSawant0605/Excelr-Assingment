{
 "cells": [
  {
   "cell_type": "markdown",
   "id": "6b97e2ca",
   "metadata": {},
   "source": [
    "1. Loading dataset "
   ]
  },
  {
   "cell_type": "code",
   "execution_count": 11,
   "id": "ed098989",
   "metadata": {},
   "outputs": [],
   "source": [
    "import pandas as pd\n",
    "from mlxtend.preprocessing import TransactionEncoder\n",
    "from mlxtend.frequent_patterns import apriori, association_rules\n",
    "\n",
    "# Load the dataset\n",
    "df = pd.read_excel(\"Online retail.xlsx\", header=None)"
   ]
  },
  {
   "cell_type": "markdown",
   "id": "2c881642",
   "metadata": {},
   "source": [
    "Data Preprocessing"
   ]
  },
  {
   "cell_type": "code",
   "execution_count": 13,
   "id": "1db38984",
   "metadata": {},
   "outputs": [],
   "source": [
    "transactions = [str(row[0]).split(',') for row in df.itertuples(index=False)]\n",
    "\n",
    "#One-hot encode the transactions\n",
    "te = TransactionEncoder()\n",
    "te_ary = te.fit(transactions).transform(transactions)\n",
    "df_encoded = pd.DataFrame(te_ary, columns=te.columns_)"
   ]
  },
  {
   "cell_type": "markdown",
   "id": "62e586e0",
   "metadata": {},
   "source": [
    "Generate frequent itemsets using Apriori"
   ]
  },
  {
   "cell_type": "code",
   "execution_count": 14,
   "id": "5279037c",
   "metadata": {},
   "outputs": [],
   "source": [
    "frequent_itemsets = apriori(df_encoded, min_support=0.03, use_colnames=True)"
   ]
  },
  {
   "cell_type": "markdown",
   "id": "fe1da10c",
   "metadata": {},
   "source": [
    "Generate association rules"
   ]
  },
  {
   "cell_type": "code",
   "execution_count": 15,
   "id": "88da51a0",
   "metadata": {},
   "outputs": [],
   "source": [
    "rules = association_rules(frequent_itemsets, metric=\"lift\", min_threshold=1.2)\n",
    "rules = rules.sort_values(['lift', 'confidence'], ascending=[False, False])"
   ]
  },
  {
   "cell_type": "markdown",
   "id": "240b85fe",
   "metadata": {},
   "source": [
    "Display the top rules"
   ]
  },
  {
   "cell_type": "code",
   "execution_count": 16,
   "id": "00f00f79",
   "metadata": {},
   "outputs": [
    {
     "name": "stdout",
     "output_type": "stream",
     "text": [
      "Top Association Rules:\n",
      "            antecedents          consequents   support  confidence      lift\n",
      "15          (spaghetti)        (ground beef)  0.039195    0.225115  2.291162\n",
      "14        (ground beef)          (spaghetti)  0.039195    0.398915  2.291162\n",
      "12      (mineral water)        (ground beef)  0.040928    0.171700  1.747522\n",
      "13        (ground beef)      (mineral water)  0.040928    0.416554  1.747522\n",
      "11  (frozen vegetables)      (mineral water)  0.035729    0.374825  1.572463\n",
      "10      (mineral water)  (frozen vegetables)  0.035729    0.149888  1.572463\n",
      "19          (spaghetti)               (milk)  0.035462    0.203675  1.571779\n",
      "18               (milk)          (spaghetti)  0.035462    0.273663  1.571779\n",
      "16               (milk)      (mineral water)  0.047994    0.370370  1.553774\n",
      "17      (mineral water)               (milk)  0.047994    0.201342  1.553774\n",
      "2                (milk)          (chocolate)  0.032129    0.247942  1.513276\n",
      "3           (chocolate)               (milk)  0.032129    0.196094  1.513276\n",
      "21           (pancakes)      (mineral water)  0.033729    0.354839  1.488616\n",
      "20      (mineral water)           (pancakes)  0.033729    0.141499  1.488616\n",
      "23          (spaghetti)      (mineral water)  0.059725    0.343032  1.439085\n",
      "22      (mineral water)          (spaghetti)  0.059725    0.250559  1.439085\n",
      "7           (chocolate)          (spaghetti)  0.039195    0.239219  1.373952\n",
      "6           (spaghetti)          (chocolate)  0.039195    0.225115  1.373952\n",
      "5           (chocolate)      (mineral water)  0.052660    0.321400  1.348332\n",
      "4       (mineral water)          (chocolate)  0.052660    0.220917  1.348332\n",
      "8                (milk)               (eggs)  0.030796    0.237654  1.322437\n",
      "9                (eggs)               (milk)  0.030796    0.171365  1.322437\n",
      "1           (chocolate)       (french fries)  0.034395    0.209927  1.228284\n",
      "0        (french fries)          (chocolate)  0.034395    0.201248  1.228284\n"
     ]
    }
   ],
   "source": [
    "print(\"Top Association Rules:\")\n",
    "print(rules[['antecedents','consequents','support','confidence','lift']])"
   ]
  },
  {
   "cell_type": "markdown",
   "id": "d7c5fbfb",
   "metadata": {},
   "source": [
    "**Analysis and Interpretation**"
   ]
  },
  {
   "cell_type": "markdown",
   "id": "978c9551",
   "metadata": {},
   "source": [
    "**1. Observations from the rules**\n",
    "\n",
    "*a) Spaghetti and Ground Beef*\n",
    "\n",
    "(spaghetti) → (ground beef) confidence = 0.225, lift = 2.29\n",
    "\n",
    "(ground beef) → (spaghetti) confidence = 0.398, lift = 2.29\n",
    "\n",
    "Interpretation:\n",
    "\n",
    "Customers buying ground beef often also buy spaghetti (~40% of the time).\n",
    "\n",
    "The lift > 2 indicates a strong positive association: spaghetti and ground beef are frequently bought together more than by chance.\n",
    "\n",
    "Suggests a meal combination pattern, like making pasta dishes.\n",
    "\n",
    "*b) Mineral Water associations*\n",
    "\n",
    "(mineral water) → (ground beef) lift = 1.75\n",
    "\n",
    "(frozen vegetables) → (mineral water) lift = 1.57\n",
    "\n",
    "(milk) → (mineral water) lift = 1.55\n",
    "\n",
    "(pancakes) → (mineral water) lift = 1.48\n",
    "\n",
    "Interpretation:\n",
    "\n",
    "Mineral water is a frequently co-purchased item with many products.\n",
    "\n",
    "Lift > 1 indicates customers tend to buy water alongside other groceries, possibly for health-conscious purchases or because it’s a staple.\n",
    "\n",
    "*c) Milk associations*\n",
    "\n",
    "(milk) → (chocolate) lift = 1.51\n",
    "\n",
    "(milk) → (eggs) lift = 1.32\n",
    "\n",
    "Interpretation:\n",
    "\n",
    "Milk is commonly bought with chocolate and eggs.\n",
    "\n",
    "This could indicate breakfast-related purchases or baking ingredients.\n",
    "\n",
    "*d) Chocolate associations*\n",
    "\n",
    "(chocolate) → (milk) lift = 1.51\n",
    "\n",
    "(chocolate) → (french fries) lift = 1.23\n",
    "\n",
    "(chocolate) → (mineral water) lift = 1.35\n",
    "\n",
    "Interpretation:\n",
    "\n",
    "Chocolate is bought alongside both drinks (milk, water) and snack items (french fries).\n",
    "\n",
    "Customers often combine treats with staple beverages."
   ]
  },
  {
   "cell_type": "markdown",
   "id": "8d60ef03",
   "metadata": {},
   "source": [
    "**2. Key Patterns**\n",
    "\n",
    "Meal-oriented combinations:\n",
    "\n",
    "Spaghetti + Ground Beef\n",
    "\n",
    "Frozen vegetables + Mineral Water\n",
    "\n",
    "Pancakes + Mineral Water\n",
    "\n",
    "Breakfast/baking patterns:\n",
    "\n",
    "Milk + Chocolate\n",
    "\n",
    "Milk + Eggs\n",
    "\n",
    "Staple items appear frequently:\n",
    "\n",
    "Mineral water shows up in multiple rules, indicating it’s commonly purchased with a wide variety of products.\n",
    "\n",
    "Snacks & treats co-purchases:\n",
    "\n",
    "Chocolate and French Fries, Chocolate and Milk – customers often buy indulgent items together.\n",
    "\n",
    "**3. Insights for customer behavior**\n",
    "\n",
    "Meal planning: Customers buy ingredients together for specific meals (pasta, baking, breakfast). Retailers can bundle such items or recommend them online.\n",
    "\n",
    "Promotions: Items with high lift (like spaghetti + ground beef) are excellent candidates for cross-selling or combo discounts.\n",
    "\n",
    "Health and staples: Mineral water is frequently paired with other products – a key staple for health-conscious shoppers.\n",
    "\n",
    "Product placement: Chocolate and milk frequently bought together suggests placing them near each other in-store or promoting together online.\n",
    "\n",
    "**4. Recommendations for retail/business**\n",
    "\n",
    "Bundle offers: Create combo offers for high-lift product pairs, e.g., spaghetti + ground beef.\n",
    "\n",
    "Cross-selling: Suggest associated items at checkout (e.g., milk + chocolate).\n",
    "\n",
    "Store layout: Place frequently co-purchased items together to increase convenience and sales.\n",
    "\n",
    "Marketing campaigns: Highlight meal ideas or breakfast packs using observed associations."
   ]
  },
  {
   "cell_type": "markdown",
   "id": "eead0143",
   "metadata": {},
   "source": [
    "Interview Questions"
   ]
  },
  {
   "cell_type": "markdown",
   "id": "e7355f7e",
   "metadata": {},
   "source": [
    "**1.\tWhat is lift and why is it important in Association rules?**\n",
    "\n",
    "Lift is a measure in association rule mining that indicates how much more likely the consequent (Y) is purchased when the antecedent (X) is purchased, compared to the case when Y is purchased independently of X.\n",
    "\n",
    "Importance:\n",
    "\n",
    "Helps identify strong and meaningful associations beyond simple frequency.\n",
    "\n",
    "Indicates whether the presence of X actually increases the likelihood of Y, which is critical for marketing strategies, product placement, or recommendation systems.\n",
    "\n",
    "Avoids misleading rules that may appear confident but occur due to high baseline frequency of Y."
   ]
  },
  {
   "cell_type": "markdown",
   "id": "d74fc40d",
   "metadata": {},
   "source": [
    "**2.\tWhat is support and Confidence. How do you calculate them?**\n",
    "\n",
    "Support measures how frequently an itemset occurs in the dataset. It reflects the overall prevalence of an item or combination of items.\n",
    "\n",
    "Confidence measures the likelihood of occurrence of the consequent (Y) given that the antecedent (X) has occurred. It reflects the strength of the rule.\n",
    "\n",
    "Support(X→Y)=Total number of transactions/Number of transactions containing both X and Y​\n",
    "\n",
    "Confidence(X→Y)=Support of X/Support of (X and Y)​\n"
   ]
  },
  {
   "cell_type": "markdown",
   "id": "81a6b883",
   "metadata": {},
   "source": [
    "**3.\tWhat are some limitations or challenges of Association rules mining?**\n",
    "\n",
    "Large Number of Rules:\n",
    "\n",
    "Mining large datasets can generate thousands or millions of rules, many of which may be redundant or insignificant.\n",
    "\n",
    "High Computational Cost:\n",
    "\n",
    "Generating frequent itemsets and calculating support, confidence, and lift for all possible combinations can be computationally expensive, especially for big datasets.\n",
    "\n",
    "Sparsity of Data:\n",
    "\n",
    "In datasets with many items but few transactions per item, it’s difficult to find meaningful associations.\n",
    "\n",
    "Choice of Thresholds:\n",
    "\n",
    "The quality of rules depends heavily on minimum support and confidence thresholds. Too high may miss useful rules; too low may produce many irrelevant rules.\n",
    "\n",
    "Ignores Sequential Information:\n",
    "\n",
    "Classic association rules do not capture the order of transactions; temporal or sequential patterns are not considered.\n",
    "\n",
    "Correlation vs. Causation:\n",
    "\n",
    "Association rules only indicate correlation, not causation; just because items appear together does not mean one causes the other.\n",
    "\n",
    "Handling Continuous Data:\n",
    "\n",
    "Association rule mining works best with categorical data. Continuous/numeric data needs to be discretized, which may lose information."
   ]
  },
  {
   "cell_type": "code",
   "execution_count": null,
   "id": "2f6d5086",
   "metadata": {},
   "outputs": [],
   "source": []
  }
 ],
 "metadata": {
  "kernelspec": {
   "display_name": "base",
   "language": "python",
   "name": "python3"
  },
  "language_info": {
   "codemirror_mode": {
    "name": "ipython",
    "version": 3
   },
   "file_extension": ".py",
   "mimetype": "text/x-python",
   "name": "python",
   "nbconvert_exporter": "python",
   "pygments_lexer": "ipython3",
   "version": "3.13.5"
  }
 },
 "nbformat": 4,
 "nbformat_minor": 5
}
